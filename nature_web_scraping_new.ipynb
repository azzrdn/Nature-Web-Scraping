{
 "cells": [
  {
   "cell_type": "markdown",
   "id": "715eef96",
   "metadata": {},
   "source": [
    "# Nature'dan anlık web-scraping ile makale çekilmesi"
   ]
  },
  {
   "cell_type": "markdown",
   "id": "5b176a88",
   "metadata": {},
   "source": [
    "### Web-scraping için gerekli kütüphanelerin çekilmesi"
   ]
  },
  {
   "cell_type": "code",
   "execution_count": 42,
   "id": "a9df4368",
   "metadata": {},
   "outputs": [],
   "source": [
    "# kütüphaneleri import etme\n",
    "from bs4 import BeautifulSoup\n",
    "import requests\n",
    "import pandas as pd\n",
    "\n",
    "import warnings\n",
    "warnings.filterwarnings('ignore')"
   ]
  },
  {
   "cell_type": "markdown",
   "id": "78ffe8a6",
   "metadata": {},
   "source": [
    "## Nature Sitesinden Web-Scraping ile veri çekme"
   ]
  },
  {
   "cell_type": "markdown",
   "id": "35c92605",
   "metadata": {},
   "source": [
    "### Şimdilik bir kaç makale için web-scraping"
   ]
  },
  {
   "cell_type": "code",
   "execution_count": 43,
   "id": "2fc0aa33",
   "metadata": {},
   "outputs": [],
   "source": [
    "page = requests.get(\"https://www.nature.com/\")\n",
    "soup = BeautifulSoup(page.content, \"html.parser\")"
   ]
  },
  {
   "cell_type": "code",
   "execution_count": 44,
   "id": "15d6ee71",
   "metadata": {},
   "outputs": [],
   "source": [
    "#soup.prettify"
   ]
  },
  {
   "cell_type": "code",
   "execution_count": 45,
   "id": "555e813a",
   "metadata": {},
   "outputs": [
    {
     "data": {
      "text/plain": [
       "'\\nFlu, MERS and Ebola — the disease outbreaks most frequently reported\\n'"
      ]
     },
     "execution_count": 45,
     "metadata": {},
     "output_type": "execute_result"
    }
   ],
   "source": [
    "# Populer makale başlığı\n",
    "soup.find(\"h2\", class_=\"c-hero__title\").text"
   ]
  },
  {
   "cell_type": "code",
   "execution_count": 46,
   "id": "a659d9dd",
   "metadata": {
    "scrolled": true
   },
   "outputs": [
    {
     "data": {
      "text/plain": [
       "'https://www.nature.com/articles/d41586-023-00196-w'"
      ]
     },
     "execution_count": 46,
     "metadata": {},
     "output_type": "execute_result"
    }
   ],
   "source": [
    "# Populer makale linki\n",
    "soup.find(\"h2\", class_=\"c-hero__title\").a.get(\"href\")"
   ]
  },
  {
   "cell_type": "code",
   "execution_count": 47,
   "id": "24f50ffb",
   "metadata": {},
   "outputs": [
    {
     "data": {
      "text/plain": [
       "'\\nWeird supernova remnant blows scientists’ minds\\n'"
      ]
     },
     "execution_count": 47,
     "metadata": {},
     "output_type": "execute_result"
    }
   ],
   "source": [
    "# Makale başlığı\n",
    "soup.find(\"h3\", class_=\"c-card__title\").text"
   ]
  },
  {
   "cell_type": "code",
   "execution_count": 48,
   "id": "c2dce8f7",
   "metadata": {},
   "outputs": [
    {
     "data": {
      "text/plain": [
       "'/articles/d41586-023-00202-1'"
      ]
     },
     "execution_count": 48,
     "metadata": {},
     "output_type": "execute_result"
    }
   ],
   "source": [
    "# Makale alt linki\n",
    "soup.find(\"h3\", class_=\"c-card__title\").a.get(\"href\")"
   ]
  },
  {
   "cell_type": "code",
   "execution_count": 49,
   "id": "47b02a4f",
   "metadata": {},
   "outputs": [
    {
     "data": {
      "text/plain": [
       "'https://www.nature.com/articles/d41586-023-00202-1'"
      ]
     },
     "execution_count": 49,
     "metadata": {},
     "output_type": "execute_result"
    }
   ],
   "source": [
    "# Makalenin asıl linki\n",
    "link = \"https://www.nature.com\" + soup.find(\"h3\", class_=\"c-card__title\").a.get(\"href\")\n",
    "link"
   ]
  },
  {
   "cell_type": "code",
   "execution_count": 50,
   "id": "e3d03d90",
   "metadata": {},
   "outputs": [],
   "source": [
    "# Asıl makale linkine bağlanma\n",
    "page2 = requests.get(\"https://www.nature.com/articles/d41586-023-00196-w\")\n",
    "soup2 = BeautifulSoup(page2.content, \"html.parser\")"
   ]
  },
  {
   "cell_type": "code",
   "execution_count": 51,
   "id": "7a6b28a5",
   "metadata": {},
   "outputs": [
    {
     "data": {
      "text/plain": [
       "'Flu, MERS and Ebola — the disease outbreaks most frequently reported'"
      ]
     },
     "execution_count": 51,
     "metadata": {},
     "output_type": "execute_result"
    }
   ],
   "source": [
    "# Makale linkinden makale başlığı\n",
    "soup2.find(\"h1\", class_=\"c-article-magazine-title\").text"
   ]
  },
  {
   "cell_type": "code",
   "execution_count": 52,
   "id": "809227e6",
   "metadata": {},
   "outputs": [
    {
     "data": {
      "text/plain": [
       "'\\n\\n\\n\\n\\nNEWS\\n27 January 2023\\n\\nFlu, MERS and Ebola — the disease outbreaks most frequently reported\\n\\n\\n                    The World Health Organization’s disease reports reflect public-health priorities and surveillance capabilities.\\n                \\n\\n\\n\\n\\n\\n                Sara Reardon\\n\\n\\n\\n\\nSara Reardon\\n\\n\\nView author publications\\n\\nYou can also search for this author in PubMed\\n\\xa0Google Scholar\\n\\n\\n\\n\\n\\n\\n\\n\\n\\n\\n\\n\\n\\nTwitter\\n\\n\\n\\n\\n\\nFacebook\\n\\n\\n\\n\\n\\nEmail\\n\\n\\n\\n\\n\\n\\n\\n\\nYou have full access to this article via your institution.\\n\\n\\nDownload PDF\\n\\n\\n\\n\\n\\n\\n\\n\\n\\n\\n\\n\\n\\n\\n\\n\\nMiddle East respiratory syndrome, thought to be transmitted by camels, was a commonly reported infectious disease between 1996 and 2019.Credit: Fayez Nureldine/AFP via Getty\\n\\n\\nGlobally, influenza has been responsible for more outbreaks than any other infectious disease over the past 23 years, followed by Middle East respiratory syndrome (MERS) and Ebola, finds an analysis of disease reports by the World Health Organization (WHO)1. The study also reveals the subjective way in which disease outbreaks are often reported, suggesting that this can affect how resources are allocated.Public-health authorities use several data sources to track infectious-disease outbreaks, but the WHO’s Disease Outbreak News (DON) is one of the most influential. Global-health researcher Rebecca Katz at Georgetown University in Washington DC and her colleagues collected all 2,789 DON reports issued between 1996 and 2019 in a searchable database. The database includes the metadata pulled from each report, such as the location of the outbreak, type of disease and timeframe over which it progressed.The researchers found that in most years, influenza, especially the H5N1 variant, was reported at the highest frequency of any infectious disease — 776 outbreaks have been documented since 1996.China reported the most outbreaks — 262 in total, of which 218 were of influenza — followed by Saudi Arabia, which documented MERS 179 times, and the Democratic Republic of the Congo, which reported 105 Ebola outbreaks (See ‘Disease outbreaks’). Few reports were associated with countries in Eastern Europe.\\n\\n\\n\\n\\n\\n\\n\\nKatz says that the diversity in reporting patterns results from the disparate surveillance capacities of various countries, along with the diseases that national health authorities prioritize and, ultimately, what the WHO decides to concern itself with. “There are a lot of humans involved here, and humans are making different calls,” she says. For instance, Ebola is reported much more often than other haemorrhagic fevers that periodically erupt in Africa.Other variations can be explained by the quality of country’s health systems. For example, Egypt has reported 115 outbreaks — mostly of influenza — in the 23-year time span that Katz’s team analysed. But no outbreaks have ever been reported by nearby Libya, which has an underfunded and unstable health system as a result of two civil wars during that period. Timothy Brewer, an infectious-disease researcher at the University of California, Los Angeles, says the analysis also shows that the WHO cannot track all outbreaks around the world, and so must pick and choose.Transparent reporting systemsThe team’s searchable database could be a useful tool in providing verified information about large outbreaks and documenting the history of infectious diseases, says Mark Smolinski, president of the non-profit organization Ending Pandemics in San Francisco, California. Having transparent, complementary outbreak-reporting systems is an important goal, he adds. “The faster we find out there’s a real threat anywhere around the world and make that information available, the better off we all are.”The database will allow researchers to look at the factors that determine how much money is spent to suppress a specific outbreak, or how external circumstances such as conflicts or weather events affect them, says Katz. However, the study notes that DON reports do not mention all known outbreaks in every region.Katz says the WHO could improve the DON reports by increasing transparency around how it prioritizes the thousands of notifications it receives, creating more-specific criteria for an outbreak’s inclusion, and adding information about contextual factors such as climate hazards or outbreaks in animal populations.A spokesperson for the WHO said it is drafting a publication detailing its decision-making process and criteria for DON reports, as well as restructuring its website to make the reports easier to search. The agency adds that it standardized the structure and format of the DON reports in 2021 — after the period that Katz’s study analysed. “WHO is a learning organization, and this extends to the DON,” the WHO wrote in a statement.\\n\\ndoi: https://doi.org/10.1038/d41586-023-00196-w\\n\\nReferencesCarlson, C. J. et al. PloS Glob. Public Health 3, e0001083 (2023).Article\\xa0\\n    \\n                    Google Scholar\\xa0\\n                Download references\\n\\nRelated Articles\\n\\n\\n\\n\\n                        \\n                        Flu and colds are back with a vengeance — why now?\\n                    \\n\\n\\n\\n\\n\\n\\n                        \\n                        Flu causes huge spike in child hospitalizations in Canada\\n                    \\n\\n\\n\\n\\n\\n\\n                        \\n                        The quest to prevent MS — and understand other post-viral diseases\\n                    \\n\\n\\n\\n\\n\\n\\n                        \\n                        The lightning-fast quest for COVID vaccines — and what it means for other diseases\\n                    \\n\\n\\n\\nSubjects\\n\\n\\nPublic health\\n\\n\\nDiseases\\n\\n\\n\\n\\nLatest on:\\n\\n\\nPublic health\\n\\n\\n\\n\\n\\nWill a new wave of RSV vaccines stop the dangerous virus?\\nNews Explainer 27 JAN 23\\n\\n\\n\\n\\n\\nShould COVID vaccines be given yearly? Proposal divides US scientists\\nNews 27 JAN 23\\n\\n\\n\\n\\n\\nDon’t wait for an Ebola outbreak to vaccinate people against it\\nWorld View 24 JAN 23\\n\\n\\n\\n\\n\\n\\nDiseases\\n\\n\\n\\n\\n\\nShould COVID vaccines be given yearly? Proposal divides US scientists\\nNews 27 JAN 23\\n\\n\\n\\n\\n\\nStricter US guidelines for ‘gain-of-function’ research are on the way — maybe\\nNews 27 JAN 23\\n\\n\\n\\n\\n\\nSerine deficiency causes complications in diabetes\\nNews & Views 25 JAN 23\\n\\n\\n\\n\\n\\n\\n\\n\\n\\n\\n\\n\\n\\n\\n\\n\\n\\n                Jobs\\n                \\n\\n\\n\\n\\n\\n\\n\\n                                Research Technician\\n                            \\n\\n\\nOklahoma Medical Research Foundation (OMRF)\\nOklahoma City, United States\\n\\n\\n\\n\\n\\n                                Research Technician\\n                            \\n\\n\\nOklahoma Medical Research Foundation (OMRF)\\nOklahoma City, United States\\n\\n\\n\\n\\n\\n                                Post-doctoral Fellow / Staff Scientist\\n                            \\n\\n\\nOklahoma Medical Research Foundation (OMRF)\\nOklahoma City, United States\\n\\n\\n\\n\\n\\n                                Post-doctoral Fellow- Bioinformatics Specialist\\n                            \\n\\n\\nOklahoma Medical Research Foundation (OMRF)\\nOklahoma City, United States\\n\\n\\n\\n\\n\\n\\n'"
      ]
     },
     "execution_count": 52,
     "metadata": {},
     "output_type": "execute_result"
    }
   ],
   "source": [
    "# Linkteki genel makale ile ilgili metinler\n",
    "soup2.find(\"article\", class_=\"article-item article-item--open\").text"
   ]
  },
  {
   "cell_type": "code",
   "execution_count": 53,
   "id": "fa0554e6",
   "metadata": {
    "scrolled": true
   },
   "outputs": [
    {
     "data": {
      "text/plain": [
       "'\\n\\n\\n\\n\\n\\nMiddle East respiratory syndrome, thought to be transmitted by camels, was a commonly reported infectious disease between 1996 and 2019.Credit: Fayez Nureldine/AFP via Getty\\n\\n\\nGlobally, influenza has been responsible for more outbreaks than any other infectious disease over the past 23 years, followed by Middle East respiratory syndrome (MERS) and Ebola, finds an analysis of disease reports by the World Health Organization (WHO)1. The study also reveals the subjective way in which disease outbreaks are often reported, suggesting that this can affect how resources are allocated.Public-health authorities use several data sources to track infectious-disease outbreaks, but the WHO’s Disease Outbreak News (DON) is one of the most influential. Global-health researcher Rebecca Katz at Georgetown University in Washington DC and her colleagues collected all 2,789 DON reports issued between 1996 and 2019 in a searchable database. The database includes the metadata pulled from each report, such as the location of the outbreak, type of disease and timeframe over which it progressed.The researchers found that in most years, influenza, especially the H5N1 variant, was reported at the highest frequency of any infectious disease — 776 outbreaks have been documented since 1996.China reported the most outbreaks — 262 in total, of which 218 were of influenza — followed by Saudi Arabia, which documented MERS 179 times, and the Democratic Republic of the Congo, which reported 105 Ebola outbreaks (See ‘Disease outbreaks’). Few reports were associated with countries in Eastern Europe.\\n\\n\\n\\n\\n\\n\\n\\nKatz says that the diversity in reporting patterns results from the disparate surveillance capacities of various countries, along with the diseases that national health authorities prioritize and, ultimately, what the WHO decides to concern itself with. “There are a lot of humans involved here, and humans are making different calls,” she says. For instance, Ebola is reported much more often than other haemorrhagic fevers that periodically erupt in Africa.Other variations can be explained by the quality of country’s health systems. For example, Egypt has reported 115 outbreaks — mostly of influenza — in the 23-year time span that Katz’s team analysed. But no outbreaks have ever been reported by nearby Libya, which has an underfunded and unstable health system as a result of two civil wars during that period. Timothy Brewer, an infectious-disease researcher at the University of California, Los Angeles, says the analysis also shows that the WHO cannot track all outbreaks around the world, and so must pick and choose.Transparent reporting systemsThe team’s searchable database could be a useful tool in providing verified information about large outbreaks and documenting the history of infectious diseases, says Mark Smolinski, president of the non-profit organization Ending Pandemics in San Francisco, California. Having transparent, complementary outbreak-reporting systems is an important goal, he adds. “The faster we find out there’s a real threat anywhere around the world and make that information available, the better off we all are.”The database will allow researchers to look at the factors that determine how much money is spent to suppress a specific outbreak, or how external circumstances such as conflicts or weather events affect them, says Katz. However, the study notes that DON reports do not mention all known outbreaks in every region.Katz says the WHO could improve the DON reports by increasing transparency around how it prioritizes the thousands of notifications it receives, creating more-specific criteria for an outbreak’s inclusion, and adding information about contextual factors such as climate hazards or outbreaks in animal populations.A spokesperson for the WHO said it is drafting a publication detailing its decision-making process and criteria for DON reports, as well as restructuring its website to make the reports easier to search. The agency adds that it standardized the structure and format of the DON reports in 2021 — after the period that Katz’s study analysed. “WHO is a learning organization, and this extends to the DON,” the WHO wrote in a statement.\\n'"
      ]
     },
     "execution_count": 53,
     "metadata": {},
     "output_type": "execute_result"
    }
   ],
   "source": [
    "# Asıl makale içeriği NOT: Her zaman makale içeriğinin tamamına ulaşılmaz. Bazen sadece makale özeti bulunur.\n",
    "soup2.find(\"div\", class_=\"c-article-body main-content\").text"
   ]
  },
  {
   "cell_type": "code",
   "execution_count": 54,
   "id": "c89b14fd",
   "metadata": {},
   "outputs": [
    {
     "data": {
      "text/plain": [
       "'2023-01-27'"
      ]
     },
     "execution_count": 54,
     "metadata": {},
     "output_type": "execute_result"
    }
   ],
   "source": [
    "# Makale yayın tarihi\n",
    "soup2.find(\"time\").get(\"datetime\")"
   ]
  },
  {
   "cell_type": "markdown",
   "id": "0065d9cc",
   "metadata": {},
   "source": [
    "### Şimdi döngü halinde diğer makaleleri elde etme adımları"
   ]
  },
  {
   "cell_type": "code",
   "execution_count": 55,
   "id": "350c63dd",
   "metadata": {},
   "outputs": [
    {
     "data": {
      "text/plain": [
       "'https://www.nature.com/articles/d41586-023-00196-w'"
      ]
     },
     "execution_count": 55,
     "metadata": {},
     "output_type": "execute_result"
    }
   ],
   "source": [
    "# örnek makale linki\n",
    "soup.find(\"h2\", class_=\"c-hero__title\").a.get(\"href\")"
   ]
  },
  {
   "cell_type": "code",
   "execution_count": 56,
   "id": "75e99072",
   "metadata": {},
   "outputs": [],
   "source": [
    "# linkler için boş liste tanımlama\n",
    "linkler = []"
   ]
  },
  {
   "cell_type": "code",
   "execution_count": 57,
   "id": "ff834aa9",
   "metadata": {},
   "outputs": [],
   "source": [
    "# populer makale linkini listeye ekleme\n",
    "linkler.append(soup.find(\"h2\", class_=\"c-hero__title\").a.get(\"href\"))"
   ]
  },
  {
   "cell_type": "code",
   "execution_count": 58,
   "id": "a14d3857",
   "metadata": {},
   "outputs": [
    {
     "data": {
      "text/plain": [
       "'/articles/d41586-023-00202-1'"
      ]
     },
     "execution_count": 58,
     "metadata": {},
     "output_type": "execute_result"
    }
   ],
   "source": [
    "soup.find_all(\"h3\", class_=\"c-card__title\")[0].a.get(\"href\")"
   ]
  },
  {
   "cell_type": "code",
   "execution_count": 59,
   "id": "a80f9d51",
   "metadata": {},
   "outputs": [],
   "source": [
    "# Populer makale dışındaki  makalelerin linklerinin hepsini altlink olarak links değişkenine atama\n",
    "links = soup.find_all(\"h3\", class_=\"c-card__title\")"
   ]
  },
  {
   "cell_type": "code",
   "execution_count": 60,
   "id": "b60f5309",
   "metadata": {},
   "outputs": [],
   "source": [
    "# döngü aracılığıyla asıl linkleri linkler listesine ekleme\n",
    "for i in links:\n",
    "    link = \"https://www.nature.com\" + i.a.get(\"href\")\n",
    "    linkler.append(link)"
   ]
  },
  {
   "cell_type": "code",
   "execution_count": 61,
   "id": "df6205c9",
   "metadata": {},
   "outputs": [
    {
     "data": {
      "text/plain": [
       "['https://www.nature.com/articles/d41586-023-00196-w',\n",
       " 'https://www.nature.com/articles/d41586-023-00202-1',\n",
       " 'https://www.nature.com/articles/d41586-023-00212-z',\n",
       " 'https://www.nature.com/articles/s41586-022-05637-6',\n",
       " 'https://www.nature.com/articles/d41586-023-00250-7',\n",
       " 'https://www.nature.com/articles/d41586-023-00247-2',\n",
       " 'https://www.nature.com/articles/d41586-023-00196-w',\n",
       " 'https://www.nature.com/articles/d41586-023-00246-3',\n",
       " 'https://www.nature.com/articles/d41586-023-00234-7',\n",
       " 'https://www.nature.com/articles/d41586-023-00197-9',\n",
       " 'https://www.nature.com/articles/d41586-023-00257-0',\n",
       " 'https://www.nature.com/articles/d41586-023-00202-1',\n",
       " 'https://www.nature.com/articles/d41586-023-00143-9',\n",
       " 'https://www.nature.com/articles/d41586-023-00095-0',\n",
       " 'https://www.nature.com/articles/d41586-023-00121-1',\n",
       " 'https://www.nature.com/articles/d41586-023-00145-7',\n",
       " 'https://www.nature.com/articles/d41586-022-04535-1',\n",
       " 'https://www.nature.com/articles/d41586-023-00054-9',\n",
       " 'https://www.nature.com/articles/d41586-022-04538-y',\n",
       " 'https://www.nature.com/articles/s41586-022-05546-8',\n",
       " 'https://www.nature.com/articles/d41586-023-00144-8',\n",
       " 'https://www.nature.com/articles/s41586-023-05744-y',\n",
       " 'https://www.nature.com/articles/s41586-022-05639-4',\n",
       " 'https://www.nature.com/articles/s41586-022-05638-5',\n",
       " 'https://www.nature.com/articles/s41586-022-05577-1',\n",
       " 'https://www.nature.com/articles/s41586-022-05640-x',\n",
       " 'https://www.nature.com/collections/jcfdjbbfha']"
      ]
     },
     "execution_count": 61,
     "metadata": {},
     "output_type": "execute_result"
    }
   ],
   "source": [
    "# listeye bi gö atma\n",
    "linkler"
   ]
  },
  {
   "cell_type": "code",
   "execution_count": 62,
   "id": "7b44c424",
   "metadata": {},
   "outputs": [],
   "source": [
    "# Makale bilgilerini bazı düzenlemeler yaparak for döngüsü yardımıyla bir data veri çerçevesine aktarma\n",
    "tarihler = []\n",
    "basliklar = []\n",
    "yazilar = []\n",
    "for link in linkler:\n",
    "    page3 = requests.get(link)\n",
    "    soup3 = BeautifulSoup(page3.content, \"html.parser\")\n",
    "    try:\n",
    "        baslik = soup3.find(\"h1\", class_=\"c-article-magazine-title\").text\n",
    "    except AttributeError:\n",
    "        try:\n",
    "            baslik = soup3.find(\"h1\", class_=\"c-article-title\").text\n",
    "        except AttributeError:\n",
    "            baslik = soup3.find(\"h1\").text\n",
    "    try:\n",
    "        yazi = soup3.find(\"div\", class_=\"c-article-body main-content\").text\n",
    "    except AttributeError:\n",
    "        try:\n",
    "            yazi = soup3.find(\"div\", class_=\"c-article-body\").text\n",
    "        except AttributeError:\n",
    "            try:\n",
    "                yazi = soup3.find(\"p\", class_=\"article__teaser\").text\n",
    "            except AttributeError:\n",
    "                yazi = soup3.find(\"div\", class_=\"u-mb-32\").text\n",
    "    tarih = soup3.find(\"time\").get(\"datetime\")\n",
    "    tarihler.append(tarih)\n",
    "    basliklar.append(baslik)\n",
    "    yazilar.append(yazi)\n",
    "    data = pd.DataFrame(columns=[\"Tarih\",\"Başlık\",\"Yazı\"])\n",
    "    data[\"Tarih\"] = tarihler\n",
    "    data[\"Başlık\"] = basliklar\n",
    "    data[\"Yazı\"] = yazilar\n",
    "    data[\"Yazı\"] = data[\"Yazı\"].str.replace(\"\\n\",\"\")\n",
    "    data[\"Yazı\"] = data[\"Yazı\"].str.replace(\"\\t\",\"\")\n",
    "    data['Tarih']=pd.to_datetime(data['Tarih'])"
   ]
  },
  {
   "cell_type": "code",
   "execution_count": 63,
   "id": "430d8a4c",
   "metadata": {},
   "outputs": [
    {
     "data": {
      "text/plain": [
       "(27, 3)"
      ]
     },
     "execution_count": 63,
     "metadata": {},
     "output_type": "execute_result"
    }
   ],
   "source": [
    "# data yapısı\n",
    "data.shape"
   ]
  },
  {
   "cell_type": "code",
   "execution_count": 64,
   "id": "f5f8c11b",
   "metadata": {},
   "outputs": [
    {
     "data": {
      "text/html": [
       "<div>\n",
       "<style scoped>\n",
       "    .dataframe tbody tr th:only-of-type {\n",
       "        vertical-align: middle;\n",
       "    }\n",
       "\n",
       "    .dataframe tbody tr th {\n",
       "        vertical-align: top;\n",
       "    }\n",
       "\n",
       "    .dataframe thead th {\n",
       "        text-align: right;\n",
       "    }\n",
       "</style>\n",
       "<table border=\"1\" class=\"dataframe\">\n",
       "  <thead>\n",
       "    <tr style=\"text-align: right;\">\n",
       "      <th></th>\n",
       "      <th>Tarih</th>\n",
       "      <th>Başlık</th>\n",
       "      <th>Yazı</th>\n",
       "    </tr>\n",
       "  </thead>\n",
       "  <tbody>\n",
       "    <tr>\n",
       "      <th>0</th>\n",
       "      <td>2023-01-27</td>\n",
       "      <td>Flu, MERS and Ebola — the disease outbreaks mo...</td>\n",
       "      <td>Middle East respiratory syndrome, thought to b...</td>\n",
       "    </tr>\n",
       "    <tr>\n",
       "      <th>1</th>\n",
       "      <td>2023-01-26</td>\n",
       "      <td>Weird supernova remnant blows scientists’ minds</td>\n",
       "      <td>When dying stars explode as supernovae, they u...</td>\n",
       "    </tr>\n",
       "    <tr>\n",
       "      <th>2</th>\n",
       "      <td>2023-01-27</td>\n",
       "      <td>Will a new wave of RSV vaccines stop the dange...</td>\n",
       "      <td>Respiratory syncytial virus infects the lungs ...</td>\n",
       "    </tr>\n",
       "    <tr>\n",
       "      <th>3</th>\n",
       "      <td>2023-01-25</td>\n",
       "      <td>Insulin-regulated serine and lipid metabolism ...</td>\n",
       "      <td>AbstractDiabetes represents a spectrum of dise...</td>\n",
       "    </tr>\n",
       "    <tr>\n",
       "      <th>4</th>\n",
       "      <td>2023-01-26</td>\n",
       "      <td>Daily briefing: How antidepressants help bacte...</td>\n",
       "      <td>Hello Nature readers, would you like to get th...</td>\n",
       "    </tr>\n",
       "    <tr>\n",
       "      <th>5</th>\n",
       "      <td>2023-01-27</td>\n",
       "      <td>The history of profit, and are animals creativ...</td>\n",
       "      <td>Tutankhamun and the Tomb That Changed the Worl...</td>\n",
       "    </tr>\n",
       "    <tr>\n",
       "      <th>6</th>\n",
       "      <td>2023-01-27</td>\n",
       "      <td>Flu, MERS and Ebola — the disease outbreaks mo...</td>\n",
       "      <td>Middle East respiratory syndrome, thought to b...</td>\n",
       "    </tr>\n",
       "    <tr>\n",
       "      <th>7</th>\n",
       "      <td>2023-01-27</td>\n",
       "      <td>Astrophysicists turn fast radio bursts into co...</td>\n",
       "      <td>The Deep Synoptic Array in California's Owens ...</td>\n",
       "    </tr>\n",
       "    <tr>\n",
       "      <th>8</th>\n",
       "      <td>2023-01-27</td>\n",
       "      <td>Should COVID vaccines be given yearly? Proposa...</td>\n",
       "      <td>A health-care worker prepares a booster dose o...</td>\n",
       "    </tr>\n",
       "    <tr>\n",
       "      <th>9</th>\n",
       "      <td>2023-01-27</td>\n",
       "      <td>CRISPR voles can’t detect ‘love hormone’ oxyto...</td>\n",
       "      <td>Prairie voles (Microtus ochrogaster) are known...</td>\n",
       "    </tr>\n",
       "    <tr>\n",
       "      <th>10</th>\n",
       "      <td>2023-01-27</td>\n",
       "      <td>Stricter US guidelines for ‘gain-of-function’ ...</td>\n",
       "      <td>Some scientists would like more rigorous overs...</td>\n",
       "    </tr>\n",
       "    <tr>\n",
       "      <th>11</th>\n",
       "      <td>2023-01-26</td>\n",
       "      <td>Weird supernova remnant blows scientists’ minds</td>\n",
       "      <td>When dying stars explode as supernovae, they u...</td>\n",
       "    </tr>\n",
       "    <tr>\n",
       "      <th>12</th>\n",
       "      <td>2023-01-26</td>\n",
       "      <td>Quantum avalanches wipe out the effects of dis...</td>\n",
       "      <td>When electrons move through a disordered mater...</td>\n",
       "    </tr>\n",
       "    <tr>\n",
       "      <th>13</th>\n",
       "      <td>2023-01-25</td>\n",
       "      <td>A census of complexes formed by mitochondrial ...</td>\n",
       "      <td>This is a summary of: Schulte, U. et al. Mitoc...</td>\n",
       "    </tr>\n",
       "    <tr>\n",
       "      <th>14</th>\n",
       "      <td>2023-01-25</td>\n",
       "      <td>Protein structure terminates doubt about how t...</td>\n",
       "      <td>Over time, scientific concepts in textbooks ca...</td>\n",
       "    </tr>\n",
       "    <tr>\n",
       "      <th>15</th>\n",
       "      <td>2023-01-25</td>\n",
       "      <td>Machine learning classifies catalytic-reaction...</td>\n",
       "      <td>The discovery of chemical reactions is influen...</td>\n",
       "    </tr>\n",
       "    <tr>\n",
       "      <th>16</th>\n",
       "      <td>2023-01-25</td>\n",
       "      <td>A wearable ultrasound patch for continuous hea...</td>\n",
       "      <td>This is a summary of: Hu, H. et al. A wearable...</td>\n",
       "    </tr>\n",
       "    <tr>\n",
       "      <th>17</th>\n",
       "      <td>2023-01-25</td>\n",
       "      <td>Serine deficiency causes complications in diab...</td>\n",
       "      <td>One of the most common complications of type 2...</td>\n",
       "    </tr>\n",
       "    <tr>\n",
       "      <th>18</th>\n",
       "      <td>2023-01-25</td>\n",
       "      <td>A transient protein megacomplex that controls ...</td>\n",
       "      <td>This is a summary of: Cui, Z. et al. Structure...</td>\n",
       "    </tr>\n",
       "    <tr>\n",
       "      <th>19</th>\n",
       "      <td>2023-01-25</td>\n",
       "      <td>Questioning the fetal microbiome illustrates p...</td>\n",
       "      <td>AbstractWhether the human fetus and the prenat...</td>\n",
       "    </tr>\n",
       "    <tr>\n",
       "      <th>20</th>\n",
       "      <td>2023-01-24</td>\n",
       "      <td>From the archive: calculating the duration of ...</td>\n",
       "      <td>100 years ago</td>\n",
       "    </tr>\n",
       "    <tr>\n",
       "      <th>21</th>\n",
       "      <td>2023-01-26</td>\n",
       "      <td>Architecture of chloroplast TOC-TIC translocon...</td>\n",
       "      <td>AbstractChloroplasts rely on the translocon co...</td>\n",
       "    </tr>\n",
       "    <tr>\n",
       "      <th>22</th>\n",
       "      <td>2023-01-25</td>\n",
       "      <td>Organic reaction mechanism classification usin...</td>\n",
       "      <td>AbstractA mechanistic understanding of catalyt...</td>\n",
       "    </tr>\n",
       "    <tr>\n",
       "      <th>23</th>\n",
       "      <td>2023-01-25</td>\n",
       "      <td>Visualization of translation and protein bioge...</td>\n",
       "      <td>AbstractThe dynamic ribosome–translocon comple...</td>\n",
       "    </tr>\n",
       "    <tr>\n",
       "      <th>24</th>\n",
       "      <td>2023-01-25</td>\n",
       "      <td>Attosecond field emission</td>\n",
       "      <td>AbstractField emission of electrons underlies ...</td>\n",
       "    </tr>\n",
       "    <tr>\n",
       "      <th>25</th>\n",
       "      <td>2023-01-25</td>\n",
       "      <td>Stigma receptors control intraspecies and inte...</td>\n",
       "      <td>AbstractFlowering plants have evolved numerous...</td>\n",
       "    </tr>\n",
       "    <tr>\n",
       "      <th>26</th>\n",
       "      <td>2022-12-13</td>\n",
       "      <td>How to vaccinate the world next time</td>\n",
       "      <td>The COVID19 pandemic wreaked havoc on the glob...</td>\n",
       "    </tr>\n",
       "  </tbody>\n",
       "</table>\n",
       "</div>"
      ],
      "text/plain": [
       "        Tarih                                             Başlık  \\\n",
       "0  2023-01-27  Flu, MERS and Ebola — the disease outbreaks mo...   \n",
       "1  2023-01-26    Weird supernova remnant blows scientists’ minds   \n",
       "2  2023-01-27  Will a new wave of RSV vaccines stop the dange...   \n",
       "3  2023-01-25  Insulin-regulated serine and lipid metabolism ...   \n",
       "4  2023-01-26  Daily briefing: How antidepressants help bacte...   \n",
       "5  2023-01-27  The history of profit, and are animals creativ...   \n",
       "6  2023-01-27  Flu, MERS and Ebola — the disease outbreaks mo...   \n",
       "7  2023-01-27  Astrophysicists turn fast radio bursts into co...   \n",
       "8  2023-01-27  Should COVID vaccines be given yearly? Proposa...   \n",
       "9  2023-01-27  CRISPR voles can’t detect ‘love hormone’ oxyto...   \n",
       "10 2023-01-27  Stricter US guidelines for ‘gain-of-function’ ...   \n",
       "11 2023-01-26    Weird supernova remnant blows scientists’ minds   \n",
       "12 2023-01-26  Quantum avalanches wipe out the effects of dis...   \n",
       "13 2023-01-25  A census of complexes formed by mitochondrial ...   \n",
       "14 2023-01-25  Protein structure terminates doubt about how t...   \n",
       "15 2023-01-25  Machine learning classifies catalytic-reaction...   \n",
       "16 2023-01-25  A wearable ultrasound patch for continuous hea...   \n",
       "17 2023-01-25  Serine deficiency causes complications in diab...   \n",
       "18 2023-01-25  A transient protein megacomplex that controls ...   \n",
       "19 2023-01-25  Questioning the fetal microbiome illustrates p...   \n",
       "20 2023-01-24  From the archive: calculating the duration of ...   \n",
       "21 2023-01-26  Architecture of chloroplast TOC-TIC translocon...   \n",
       "22 2023-01-25  Organic reaction mechanism classification usin...   \n",
       "23 2023-01-25  Visualization of translation and protein bioge...   \n",
       "24 2023-01-25                          Attosecond field emission   \n",
       "25 2023-01-25  Stigma receptors control intraspecies and inte...   \n",
       "26 2022-12-13               How to vaccinate the world next time   \n",
       "\n",
       "                                                 Yazı  \n",
       "0   Middle East respiratory syndrome, thought to b...  \n",
       "1   When dying stars explode as supernovae, they u...  \n",
       "2   Respiratory syncytial virus infects the lungs ...  \n",
       "3   AbstractDiabetes represents a spectrum of dise...  \n",
       "4   Hello Nature readers, would you like to get th...  \n",
       "5   Tutankhamun and the Tomb That Changed the Worl...  \n",
       "6   Middle East respiratory syndrome, thought to b...  \n",
       "7   The Deep Synoptic Array in California's Owens ...  \n",
       "8   A health-care worker prepares a booster dose o...  \n",
       "9   Prairie voles (Microtus ochrogaster) are known...  \n",
       "10  Some scientists would like more rigorous overs...  \n",
       "11  When dying stars explode as supernovae, they u...  \n",
       "12  When electrons move through a disordered mater...  \n",
       "13  This is a summary of: Schulte, U. et al. Mitoc...  \n",
       "14  Over time, scientific concepts in textbooks ca...  \n",
       "15  The discovery of chemical reactions is influen...  \n",
       "16  This is a summary of: Hu, H. et al. A wearable...  \n",
       "17  One of the most common complications of type 2...  \n",
       "18  This is a summary of: Cui, Z. et al. Structure...  \n",
       "19  AbstractWhether the human fetus and the prenat...  \n",
       "20                                      100 years ago  \n",
       "21  AbstractChloroplasts rely on the translocon co...  \n",
       "22  AbstractA mechanistic understanding of catalyt...  \n",
       "23  AbstractThe dynamic ribosome–translocon comple...  \n",
       "24  AbstractField emission of electrons underlies ...  \n",
       "25  AbstractFlowering plants have evolved numerous...  \n",
       "26  The COVID19 pandemic wreaked havoc on the glob...  "
      ]
     },
     "execution_count": 64,
     "metadata": {},
     "output_type": "execute_result"
    }
   ],
   "source": [
    "data"
   ]
  },
  {
   "cell_type": "code",
   "execution_count": 65,
   "id": "a681a32f",
   "metadata": {},
   "outputs": [],
   "source": [
    "# Başlık sütununda tekrar edenleri ayıklıyoruz  ki aynı makale birden fazla çekilmesin\n",
    "data.drop_duplicates(subset=\"Başlık\", inplace = True)"
   ]
  },
  {
   "cell_type": "code",
   "execution_count": 66,
   "id": "0c5df220",
   "metadata": {},
   "outputs": [
    {
     "data": {
      "text/plain": [
       "(25, 3)"
      ]
     },
     "execution_count": 66,
     "metadata": {},
     "output_type": "execute_result"
    }
   ],
   "source": [
    "# yeni data yapısı\n",
    "data.shape"
   ]
  },
  {
   "cell_type": "code",
   "execution_count": 67,
   "id": "164476e4",
   "metadata": {},
   "outputs": [
    {
     "data": {
      "text/plain": [
       "Tarih                                   2023-01-24 00:00:00\n",
       "Başlık    From the archive: calculating the duration of ...\n",
       "Yazı                                          100 years ago\n",
       "Name: 20, dtype: object"
      ]
     },
     "execution_count": 67,
     "metadata": {},
     "output_type": "execute_result"
    }
   ],
   "source": [
    "data.loc[20]"
   ]
  },
  {
   "cell_type": "code",
   "execution_count": 68,
   "id": "88b64424",
   "metadata": {},
   "outputs": [
    {
     "data": {
      "text/plain": [
       "'100 years ago'"
      ]
     },
     "execution_count": 68,
     "metadata": {},
     "output_type": "execute_result"
    }
   ],
   "source": [
    "data.Yazı[20]"
   ]
  },
  {
   "cell_type": "code",
   "execution_count": 69,
   "id": "2c39c2a6",
   "metadata": {},
   "outputs": [
    {
     "data": {
      "text/plain": [
       "'From the archive: calculating the duration of a dream, and tracking twinkling'"
      ]
     },
     "execution_count": 69,
     "metadata": {},
     "output_type": "execute_result"
    }
   ],
   "source": [
    "data.Başlık[20]"
   ]
  },
  {
   "cell_type": "code",
   "execution_count": 70,
   "id": "69ff2431",
   "metadata": {},
   "outputs": [],
   "source": [
    "data.drop(20, inplace =True) # 20. satırda bulunan gereksiz olan satırı dilme"
   ]
  },
  {
   "cell_type": "code",
   "execution_count": 71,
   "id": "25e5bdf3",
   "metadata": {},
   "outputs": [
    {
     "data": {
      "text/html": [
       "<div>\n",
       "<style scoped>\n",
       "    .dataframe tbody tr th:only-of-type {\n",
       "        vertical-align: middle;\n",
       "    }\n",
       "\n",
       "    .dataframe tbody tr th {\n",
       "        vertical-align: top;\n",
       "    }\n",
       "\n",
       "    .dataframe thead th {\n",
       "        text-align: right;\n",
       "    }\n",
       "</style>\n",
       "<table border=\"1\" class=\"dataframe\">\n",
       "  <thead>\n",
       "    <tr style=\"text-align: right;\">\n",
       "      <th></th>\n",
       "      <th>Tarih</th>\n",
       "      <th>Başlık</th>\n",
       "      <th>Yazı</th>\n",
       "    </tr>\n",
       "  </thead>\n",
       "  <tbody>\n",
       "    <tr>\n",
       "      <th>0</th>\n",
       "      <td>2023-01-27</td>\n",
       "      <td>Flu, MERS and Ebola — the disease outbreaks mo...</td>\n",
       "      <td>Middle East respiratory syndrome, thought to b...</td>\n",
       "    </tr>\n",
       "    <tr>\n",
       "      <th>1</th>\n",
       "      <td>2023-01-26</td>\n",
       "      <td>Weird supernova remnant blows scientists’ minds</td>\n",
       "      <td>When dying stars explode as supernovae, they u...</td>\n",
       "    </tr>\n",
       "    <tr>\n",
       "      <th>2</th>\n",
       "      <td>2023-01-27</td>\n",
       "      <td>Will a new wave of RSV vaccines stop the dange...</td>\n",
       "      <td>Respiratory syncytial virus infects the lungs ...</td>\n",
       "    </tr>\n",
       "    <tr>\n",
       "      <th>3</th>\n",
       "      <td>2023-01-25</td>\n",
       "      <td>Insulin-regulated serine and lipid metabolism ...</td>\n",
       "      <td>AbstractDiabetes represents a spectrum of dise...</td>\n",
       "    </tr>\n",
       "    <tr>\n",
       "      <th>4</th>\n",
       "      <td>2023-01-26</td>\n",
       "      <td>Daily briefing: How antidepressants help bacte...</td>\n",
       "      <td>Hello Nature readers, would you like to get th...</td>\n",
       "    </tr>\n",
       "    <tr>\n",
       "      <th>5</th>\n",
       "      <td>2023-01-27</td>\n",
       "      <td>The history of profit, and are animals creativ...</td>\n",
       "      <td>Tutankhamun and the Tomb That Changed the Worl...</td>\n",
       "    </tr>\n",
       "    <tr>\n",
       "      <th>6</th>\n",
       "      <td>2023-01-27</td>\n",
       "      <td>Astrophysicists turn fast radio bursts into co...</td>\n",
       "      <td>The Deep Synoptic Array in California's Owens ...</td>\n",
       "    </tr>\n",
       "    <tr>\n",
       "      <th>7</th>\n",
       "      <td>2023-01-27</td>\n",
       "      <td>Should COVID vaccines be given yearly? Proposa...</td>\n",
       "      <td>A health-care worker prepares a booster dose o...</td>\n",
       "    </tr>\n",
       "    <tr>\n",
       "      <th>8</th>\n",
       "      <td>2023-01-27</td>\n",
       "      <td>CRISPR voles can’t detect ‘love hormone’ oxyto...</td>\n",
       "      <td>Prairie voles (Microtus ochrogaster) are known...</td>\n",
       "    </tr>\n",
       "    <tr>\n",
       "      <th>9</th>\n",
       "      <td>2023-01-27</td>\n",
       "      <td>Stricter US guidelines for ‘gain-of-function’ ...</td>\n",
       "      <td>Some scientists would like more rigorous overs...</td>\n",
       "    </tr>\n",
       "    <tr>\n",
       "      <th>10</th>\n",
       "      <td>2023-01-26</td>\n",
       "      <td>Quantum avalanches wipe out the effects of dis...</td>\n",
       "      <td>When electrons move through a disordered mater...</td>\n",
       "    </tr>\n",
       "    <tr>\n",
       "      <th>11</th>\n",
       "      <td>2023-01-25</td>\n",
       "      <td>A census of complexes formed by mitochondrial ...</td>\n",
       "      <td>This is a summary of: Schulte, U. et al. Mitoc...</td>\n",
       "    </tr>\n",
       "    <tr>\n",
       "      <th>12</th>\n",
       "      <td>2023-01-25</td>\n",
       "      <td>Protein structure terminates doubt about how t...</td>\n",
       "      <td>Over time, scientific concepts in textbooks ca...</td>\n",
       "    </tr>\n",
       "    <tr>\n",
       "      <th>13</th>\n",
       "      <td>2023-01-25</td>\n",
       "      <td>Machine learning classifies catalytic-reaction...</td>\n",
       "      <td>The discovery of chemical reactions is influen...</td>\n",
       "    </tr>\n",
       "    <tr>\n",
       "      <th>14</th>\n",
       "      <td>2023-01-25</td>\n",
       "      <td>A wearable ultrasound patch for continuous hea...</td>\n",
       "      <td>This is a summary of: Hu, H. et al. A wearable...</td>\n",
       "    </tr>\n",
       "    <tr>\n",
       "      <th>15</th>\n",
       "      <td>2023-01-25</td>\n",
       "      <td>Serine deficiency causes complications in diab...</td>\n",
       "      <td>One of the most common complications of type 2...</td>\n",
       "    </tr>\n",
       "    <tr>\n",
       "      <th>16</th>\n",
       "      <td>2023-01-25</td>\n",
       "      <td>A transient protein megacomplex that controls ...</td>\n",
       "      <td>This is a summary of: Cui, Z. et al. Structure...</td>\n",
       "    </tr>\n",
       "    <tr>\n",
       "      <th>17</th>\n",
       "      <td>2023-01-25</td>\n",
       "      <td>Questioning the fetal microbiome illustrates p...</td>\n",
       "      <td>AbstractWhether the human fetus and the prenat...</td>\n",
       "    </tr>\n",
       "    <tr>\n",
       "      <th>18</th>\n",
       "      <td>2023-01-26</td>\n",
       "      <td>Architecture of chloroplast TOC-TIC translocon...</td>\n",
       "      <td>AbstractChloroplasts rely on the translocon co...</td>\n",
       "    </tr>\n",
       "    <tr>\n",
       "      <th>19</th>\n",
       "      <td>2023-01-25</td>\n",
       "      <td>Organic reaction mechanism classification usin...</td>\n",
       "      <td>AbstractA mechanistic understanding of catalyt...</td>\n",
       "    </tr>\n",
       "    <tr>\n",
       "      <th>20</th>\n",
       "      <td>2023-01-25</td>\n",
       "      <td>Visualization of translation and protein bioge...</td>\n",
       "      <td>AbstractThe dynamic ribosome–translocon comple...</td>\n",
       "    </tr>\n",
       "    <tr>\n",
       "      <th>21</th>\n",
       "      <td>2023-01-25</td>\n",
       "      <td>Attosecond field emission</td>\n",
       "      <td>AbstractField emission of electrons underlies ...</td>\n",
       "    </tr>\n",
       "    <tr>\n",
       "      <th>22</th>\n",
       "      <td>2023-01-25</td>\n",
       "      <td>Stigma receptors control intraspecies and inte...</td>\n",
       "      <td>AbstractFlowering plants have evolved numerous...</td>\n",
       "    </tr>\n",
       "    <tr>\n",
       "      <th>23</th>\n",
       "      <td>2022-12-13</td>\n",
       "      <td>How to vaccinate the world next time</td>\n",
       "      <td>The COVID19 pandemic wreaked havoc on the glob...</td>\n",
       "    </tr>\n",
       "  </tbody>\n",
       "</table>\n",
       "</div>"
      ],
      "text/plain": [
       "        Tarih                                             Başlık  \\\n",
       "0  2023-01-27  Flu, MERS and Ebola — the disease outbreaks mo...   \n",
       "1  2023-01-26    Weird supernova remnant blows scientists’ minds   \n",
       "2  2023-01-27  Will a new wave of RSV vaccines stop the dange...   \n",
       "3  2023-01-25  Insulin-regulated serine and lipid metabolism ...   \n",
       "4  2023-01-26  Daily briefing: How antidepressants help bacte...   \n",
       "5  2023-01-27  The history of profit, and are animals creativ...   \n",
       "6  2023-01-27  Astrophysicists turn fast radio bursts into co...   \n",
       "7  2023-01-27  Should COVID vaccines be given yearly? Proposa...   \n",
       "8  2023-01-27  CRISPR voles can’t detect ‘love hormone’ oxyto...   \n",
       "9  2023-01-27  Stricter US guidelines for ‘gain-of-function’ ...   \n",
       "10 2023-01-26  Quantum avalanches wipe out the effects of dis...   \n",
       "11 2023-01-25  A census of complexes formed by mitochondrial ...   \n",
       "12 2023-01-25  Protein structure terminates doubt about how t...   \n",
       "13 2023-01-25  Machine learning classifies catalytic-reaction...   \n",
       "14 2023-01-25  A wearable ultrasound patch for continuous hea...   \n",
       "15 2023-01-25  Serine deficiency causes complications in diab...   \n",
       "16 2023-01-25  A transient protein megacomplex that controls ...   \n",
       "17 2023-01-25  Questioning the fetal microbiome illustrates p...   \n",
       "18 2023-01-26  Architecture of chloroplast TOC-TIC translocon...   \n",
       "19 2023-01-25  Organic reaction mechanism classification usin...   \n",
       "20 2023-01-25  Visualization of translation and protein bioge...   \n",
       "21 2023-01-25                          Attosecond field emission   \n",
       "22 2023-01-25  Stigma receptors control intraspecies and inte...   \n",
       "23 2022-12-13               How to vaccinate the world next time   \n",
       "\n",
       "                                                 Yazı  \n",
       "0   Middle East respiratory syndrome, thought to b...  \n",
       "1   When dying stars explode as supernovae, they u...  \n",
       "2   Respiratory syncytial virus infects the lungs ...  \n",
       "3   AbstractDiabetes represents a spectrum of dise...  \n",
       "4   Hello Nature readers, would you like to get th...  \n",
       "5   Tutankhamun and the Tomb That Changed the Worl...  \n",
       "6   The Deep Synoptic Array in California's Owens ...  \n",
       "7   A health-care worker prepares a booster dose o...  \n",
       "8   Prairie voles (Microtus ochrogaster) are known...  \n",
       "9   Some scientists would like more rigorous overs...  \n",
       "10  When electrons move through a disordered mater...  \n",
       "11  This is a summary of: Schulte, U. et al. Mitoc...  \n",
       "12  Over time, scientific concepts in textbooks ca...  \n",
       "13  The discovery of chemical reactions is influen...  \n",
       "14  This is a summary of: Hu, H. et al. A wearable...  \n",
       "15  One of the most common complications of type 2...  \n",
       "16  This is a summary of: Cui, Z. et al. Structure...  \n",
       "17  AbstractWhether the human fetus and the prenat...  \n",
       "18  AbstractChloroplasts rely on the translocon co...  \n",
       "19  AbstractA mechanistic understanding of catalyt...  \n",
       "20  AbstractThe dynamic ribosome–translocon comple...  \n",
       "21  AbstractField emission of electrons underlies ...  \n",
       "22  AbstractFlowering plants have evolved numerous...  \n",
       "23  The COVID19 pandemic wreaked havoc on the glob...  "
      ]
     },
     "execution_count": 71,
     "metadata": {},
     "output_type": "execute_result"
    }
   ],
   "source": [
    "# Satır silme sonrası index numaralarını resetleme\n",
    "data.reset_index(drop=True, inplace=True)\n",
    "data"
   ]
  },
  {
   "cell_type": "code",
   "execution_count": 72,
   "id": "36a0e8ae",
   "metadata": {},
   "outputs": [
    {
     "data": {
      "text/plain": [
       "Tarih                                   2023-01-26 00:00:00\n",
       "Başlık      Weird supernova remnant blows scientists’ minds\n",
       "Yazı      When dying stars explode as supernovae, they u...\n",
       "Name: 1, dtype: object"
      ]
     },
     "execution_count": 72,
     "metadata": {},
     "output_type": "execute_result"
    }
   ],
   "source": [
    "# örnek makale başlığı\n",
    "data.loc[1]"
   ]
  },
  {
   "cell_type": "code",
   "execution_count": 73,
   "id": "21058671",
   "metadata": {},
   "outputs": [
    {
     "data": {
      "text/plain": [
       "'When dying stars explode as supernovae, they usually eject a chaotic web of dust and gas. But a new image of a supernova’s remains looks completely different — as though its central star sparked a cosmic fireworks display. It is the most unusual remnant that researchers have ever found, and could point to a rare type of supernova that astronomers have long struggled to explain.“I have worked on supernova remnants for 30 years, and I’ve never seen anything like this,” says Robert Fesen, an astronomer at Dartmouth College in Hanover, New Hampshire, who imaged the remnant late last year. He reported his findings at a meeting of the American Astronomical Society on 12 January and posted them in a not-yet-peer-reviewed paper on the same day1.An 850-year-old fireworkIn 2013, amateur astronomer Dana Patchick discovered the object in archived images from NASA’s Wide-field Infrared Survey Explorer. Over the next decade, several teams studied the remnant, known as Pa 30, but the results became only more and more baffling.Star graveyard revealed in super-clear image of the Milky WayVasilii Gvaramadze, an astronomer at Lomonosov Moscow State University in Russia, and his colleagues found an extremely unusual star in 2019 at the dead center of Pa 302. That star had a surface temperature of roughly 200,000 kelvin, with a stellar wind travelling outward at 16,000 kilometres per second — roughly 5% of the speed of light. “Stars simply don’t have 16,000-kilometre-per-second winds,” Fesen says. Speeds of 4,000 kilometres per second aren’t unheard of, he says — but 16,000 is wild.Pa 30 was again the subject of intrigue in 2021, when Andreas Ritter, an astronomer at the University of Hong Kong, and his colleagues proposed that the remnant is the aftermath of a supernova that lit up the sky nearly 850 years ago, in 11813. Chinese and Japanese astronomers observed the object for roughly six months before it faded.During their examination of Pa 30, Ritter and his colleagues noted that the remnant’s emission spectrum contained a particular line associated with the element sulfur. Intrigued, Fesen’s group later imaged the remnant with an optical filter that is sensitive to that line using the 2.4-metre Hiltner Telescope at the Michigan–Dartmouth–MIT Observatory at Kitt Peak, Arizona.The Crab Nebula is a more standard example of a supernova remnant, in which a dying star ejects a chaotic web of gas and dust.Credit: NASA, ESA, J. Hester and A. Loll (Arizona State University)The data they collected not only helped to confirm that Pa 30 is indeed what’s left of the supernova observed in 1181, but also yielded an image of the remnant unlike any other. It contains hundreds of fine filaments radiating outwards. Normally, researchers expect supernova remnants to look like the Crab Nebula — which looks less like a crab and more like a sea anemone, with a smooth region at the centre of an oval-shaped mass of tentacle-like filaments. They also commonly look like the Tycho Supernova, which looks like a sphere of jumbled knots.But Pa 30 comparatively makes for “just an amazing image”, says Saurabh Jha, an astronomer at Rutgers University in Piscataway, New Jersey. “I’ve never seen anything like it before. It’s really mind-blowing.”Cheating deathWhat could have caused such a remnant? In 2021, Ritter and his colleagues speculated that it was a rare supernova explosion classified as type Iax3.A normal type-Ia supernova occurs when a white dwarf siphons material from a companion star, eventually growing so massive that it can no longer support the extra weight and blows itself to smithereens — dispersing its innards across the galaxy. But in a type-Iax supernova, the star somehow survives. “We often call these zombie stars,” Jha says.A supernova could light up the Milky Way at any time. Astronomers will be watchingAlthough theorists have developed many possible mechanisms to explain type-Iax supernovae, Ritter and his colleagues think that two white dwarfs slammed together to produce Pa 30’s fireworks. That’s clear from the amount of sulfur in the remnant, which is a byproduct of a white-dwarf explosion, and the lack of lighter elements that you would see from more massive stars.Anthony Piro, an astronomer at Carnegie Observatories in Pasadena, California, thinks these findings crystallize at least one path through which a type Iax can form. But it is different from the previously favoured scenario, in which a white dwarf siphons material from a companion. That idea was developed in 2014, when astronomers successfully identified the stars involved in a Iax explosion by looking through archived images from before the event took place4.So the Pa 30 finding “definitely broadens, in my mind, what could have led to a type-Iax supernova”, Jha says.These rare explosions tend to occur in distant galaxies, making them difficult to study. But Pa 30 (if it is truly type Iax) is only 2.3 kiloparsecs away — meaning that future observations will shed more light on this unusual type of supernova.Already, Fesen has applied for observing time on both the Hubble Space Telescope and the newer James Webb Space Telescope (JWST). “The optical image that was taken, I think, gives only a hint of what it really looks like,” Fesen says. “But the JWST image will be simply amazing.”'"
      ]
     },
     "execution_count": 73,
     "metadata": {},
     "output_type": "execute_result"
    }
   ],
   "source": [
    "# örnek makale metni\n",
    "data.Yazı[1]"
   ]
  },
  {
   "cell_type": "code",
   "execution_count": 74,
   "id": "67d8827f",
   "metadata": {},
   "outputs": [],
   "source": [
    "# oluturmuş olduğumuz veri çerçevesini csv ve xlsx dosya uzantılarıyla kaydedelim.\n",
    "data.to_csv(\"nature.csv\", index = False)\n",
    "data.to_excel(\"nature.xlsx\", sheet_name = \"nature\", index = False)"
   ]
  }
 ],
 "metadata": {
  "kernelspec": {
   "display_name": "Python 3 (ipykernel)",
   "language": "python",
   "name": "python3"
  },
  "language_info": {
   "codemirror_mode": {
    "name": "ipython",
    "version": 3
   },
   "file_extension": ".py",
   "mimetype": "text/x-python",
   "name": "python",
   "nbconvert_exporter": "python",
   "pygments_lexer": "ipython3",
   "version": "3.9.12"
  }
 },
 "nbformat": 4,
 "nbformat_minor": 5
}
